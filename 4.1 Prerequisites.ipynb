{
 "cells": [
  {
   "cell_type": "markdown",
   "id": "c9e58641-fd5a-4b88-b07d-f187aba9676b",
   "metadata": {},
   "source": [
    "# FloTorch\n",
    "\n",
    "**FloTorch** is an open-source tool designed to streamline and optimize Generative AI workloads on AWS.  \n",
    "It automates the development of Retrieval-Augmented Generation (RAG) proof-of-concepts with features like hyperparameter tuning, vector database optimization, and LLM integration. FloTorch facilitates experimentation, ensures security, and accelerates production with cost-efficient, validated workflows.\n",
    "\n",
    "---\n",
    "\n",
    "## 🎬 Demo Video\n",
    "\n",
    "👉 Watch a quick demo of FloTorch in action:\n",
    "\n",
    "[![FloTorch Demo](https://img.youtube.com/vi/00000000000/0.jpg)](https://flotorch-public.s3.us-east-1.amazonaws.com/media/FloTorch-Demo.mp4)\n",
    "\n",
    "> Or open directly: [https://fissiontorch-public.s3.us-east-1.amazonaws.com/demo.mp4](https://fissiontorch-public.s3.us-east-1.amazonaws.com/demo.mp4)\n",
    "\n",
    "---\n",
    "\n",
    "## 🚀 Key Features\n",
    "\n",
    "- **Automated RAG Optimization**: Automatically fine-tune RAG pipelines for specific use cases, reducing time-to-market.\n",
    "- **LLMOps & FMOps Optimization**: Streamline the AI lifecycle from model management to operational efficiency.\n",
    "- **Enterprise Monitoring**: Get real-time monitoring for enterprise-scale GenAI applications.\n",
    "- **Observability & Traceability**: Maintain full auditability and transparency.\n",
    "- **Secure AWS Deployment**: All data and operations stay within your AWS account.\n",
    "\n",
    "---"
   ]
  },
  {
   "cell_type": "markdown",
   "id": "2fdf6d77-7879-4fd0-8c65-7be3c53c996e",
   "metadata": {},
   "source": [
    "# Prerequisites\n",
    "- Please make sure to run Lab 1 notebooks before running Lab 4 notebooks, because we are going to use variable json created from Lab 1"
   ]
  },
  {
   "cell_type": "code",
   "execution_count": 8,
   "id": "e2db2b03-1de3-492e-869e-502081191df5",
   "metadata": {},
   "outputs": [
    {
     "data": {
      "text/plain": [
       "{'accountNumber': '746074413210',\n",
       " 'regionName': 'us-west-2',\n",
       " 'collectionArn': 'arn:aws:aoss:us-west-2:746074413210:collection/3f35uv3lze9bdothrm0c',\n",
       " 'collectionId': '3f35uv3lze9bdothrm0c',\n",
       " 'vectorIndexName': 'ws-index-',\n",
       " 'bedrockExecutionRoleArn': 'arn:aws:iam::746074413210:role/advanced-rag-workshop-bedrock_execution_role-us-west-2',\n",
       " 's3Bucket': '746074413210-us-west-2-advanced-rag-workshop',\n",
       " 'kbFixedChunk': 'WO4U6AWAU1',\n",
       " 'kbSemanticChunk': 'OUFEWBGEES',\n",
       " 'kbHierarchicalChunk': 'IHWIS6EP0H'}"
      ]
     },
     "execution_count": 8,
     "metadata": {},
     "output_type": "execute_result"
    }
   ],
   "source": [
    "import json\n",
    "# Load Varibale json file which created from Lab 1\n",
    "with open(\"variables.json\", \"r\") as f:\n",
    "    variables = json.load(f)\n",
    "\n",
    "variables"
   ]
  },
  {
   "cell_type": "markdown",
   "id": "8dca54a5-0a31-493b-95d7-e14996bfa49b",
   "metadata": {},
   "source": [
    "### Environment setup"
   ]
  },
  {
   "cell_type": "code",
   "execution_count": 2,
   "id": "020dd9ee",
   "metadata": {},
   "outputs": [],
   "source": [
    "import warnings\n",
    "warnings.filterwarnings(\"ignore\")"
   ]
  },
  {
   "cell_type": "markdown",
   "id": "c231bebb-1516-45dc-81e1-d0aa2791c020",
   "metadata": {},
   "source": [
    "#### Upload Ground truth data to S3 bucket"
   ]
  },
  {
   "cell_type": "code",
   "execution_count": 1,
   "id": "79bc56f9-c071-4b62-820c-46aa8ecfd5f1",
   "metadata": {
    "scrolled": true
   },
   "outputs": [
    {
     "name": "stdout",
     "output_type": "stream",
     "text": [
      "Requirement already satisfied: FloTorch-core in /home/ec2-user/anaconda3/envs/python3/lib/python3.10/site-packages (2.7.0)\n",
      "Requirement already satisfied: langchain==0.3.14 in /home/ec2-user/anaconda3/envs/python3/lib/python3.10/site-packages (from FloTorch-core) (0.3.14)\n",
      "Requirement already satisfied: boto3==1.36.2 in /home/ec2-user/anaconda3/envs/python3/lib/python3.10/site-packages (from FloTorch-core) (1.36.2)\n",
      "Requirement already satisfied: ollama==0.4.6 in /home/ec2-user/anaconda3/envs/python3/lib/python3.10/site-packages (from FloTorch-core) (0.4.6)\n",
      "Requirement already satisfied: PyPDF2==3.0.1 in /home/ec2-user/anaconda3/envs/python3/lib/python3.10/site-packages (from FloTorch-core) (3.0.1)\n",
      "Requirement already satisfied: opensearch-py==2.8.0 in /home/ec2-user/anaconda3/envs/python3/lib/python3.10/site-packages (from FloTorch-core) (2.8.0)\n",
      "Requirement already satisfied: sagemaker==2.235.2 in /home/ec2-user/anaconda3/envs/python3/lib/python3.10/site-packages (from FloTorch-core) (2.235.2)\n",
      "Requirement already satisfied: openai==1.57.4 in /home/ec2-user/anaconda3/envs/python3/lib/python3.10/site-packages (from FloTorch-core) (1.57.4)\n",
      "Requirement already satisfied: botocore<1.37.0,>=1.36.2 in /home/ec2-user/anaconda3/envs/python3/lib/python3.10/site-packages (from boto3==1.36.2->FloTorch-core) (1.36.26)\n",
      "Requirement already satisfied: jmespath<2.0.0,>=0.7.1 in /home/ec2-user/anaconda3/envs/python3/lib/python3.10/site-packages (from boto3==1.36.2->FloTorch-core) (1.0.1)\n",
      "Requirement already satisfied: s3transfer<0.12.0,>=0.11.0 in /home/ec2-user/anaconda3/envs/python3/lib/python3.10/site-packages (from boto3==1.36.2->FloTorch-core) (0.11.2)\n",
      "Requirement already satisfied: PyYAML>=5.3 in /home/ec2-user/anaconda3/envs/python3/lib/python3.10/site-packages (from langchain==0.3.14->FloTorch-core) (6.0.2)\n",
      "Requirement already satisfied: SQLAlchemy<3,>=1.4 in /home/ec2-user/anaconda3/envs/python3/lib/python3.10/site-packages (from langchain==0.3.14->FloTorch-core) (2.0.38)\n",
      "Requirement already satisfied: aiohttp<4.0.0,>=3.8.3 in /home/ec2-user/anaconda3/envs/python3/lib/python3.10/site-packages (from langchain==0.3.14->FloTorch-core) (3.11.12)\n",
      "Requirement already satisfied: async-timeout<5.0.0,>=4.0.0 in /home/ec2-user/anaconda3/envs/python3/lib/python3.10/site-packages (from langchain==0.3.14->FloTorch-core) (4.0.3)\n",
      "Requirement already satisfied: langchain-core<0.4.0,>=0.3.29 in /home/ec2-user/anaconda3/envs/python3/lib/python3.10/site-packages (from langchain==0.3.14->FloTorch-core) (0.3.54)\n",
      "Requirement already satisfied: langchain-text-splitters<0.4.0,>=0.3.3 in /home/ec2-user/anaconda3/envs/python3/lib/python3.10/site-packages (from langchain==0.3.14->FloTorch-core) (0.3.8)\n",
      "Requirement already satisfied: langsmith<0.3,>=0.1.17 in /home/ec2-user/anaconda3/envs/python3/lib/python3.10/site-packages (from langchain==0.3.14->FloTorch-core) (0.2.11)\n",
      "Requirement already satisfied: numpy<2,>=1.22.4 in /home/ec2-user/anaconda3/envs/python3/lib/python3.10/site-packages (from langchain==0.3.14->FloTorch-core) (1.26.4)\n",
      "Requirement already satisfied: pydantic<3.0.0,>=2.7.4 in /home/ec2-user/anaconda3/envs/python3/lib/python3.10/site-packages (from langchain==0.3.14->FloTorch-core) (2.11.3)\n",
      "Requirement already satisfied: requests<3,>=2 in /home/ec2-user/anaconda3/envs/python3/lib/python3.10/site-packages (from langchain==0.3.14->FloTorch-core) (2.32.3)\n",
      "Requirement already satisfied: tenacity!=8.4.0,<10,>=8.1.0 in /home/ec2-user/anaconda3/envs/python3/lib/python3.10/site-packages (from langchain==0.3.14->FloTorch-core) (9.1.2)\n",
      "Requirement already satisfied: httpx<0.28.0,>=0.27.0 in /home/ec2-user/anaconda3/envs/python3/lib/python3.10/site-packages (from ollama==0.4.6->FloTorch-core) (0.27.2)\n",
      "Requirement already satisfied: anyio<5,>=3.5.0 in /home/ec2-user/anaconda3/envs/python3/lib/python3.10/site-packages (from openai==1.57.4->FloTorch-core) (4.8.0)\n",
      "Requirement already satisfied: distro<2,>=1.7.0 in /home/ec2-user/anaconda3/envs/python3/lib/python3.10/site-packages (from openai==1.57.4->FloTorch-core) (1.9.0)\n",
      "Requirement already satisfied: jiter<1,>=0.4.0 in /home/ec2-user/anaconda3/envs/python3/lib/python3.10/site-packages (from openai==1.57.4->FloTorch-core) (0.9.0)\n",
      "Requirement already satisfied: sniffio in /home/ec2-user/anaconda3/envs/python3/lib/python3.10/site-packages (from openai==1.57.4->FloTorch-core) (1.3.1)\n",
      "Requirement already satisfied: tqdm>4 in /home/ec2-user/anaconda3/envs/python3/lib/python3.10/site-packages (from openai==1.57.4->FloTorch-core) (4.67.1)\n",
      "Requirement already satisfied: typing-extensions<5,>=4.11 in /home/ec2-user/anaconda3/envs/python3/lib/python3.10/site-packages (from openai==1.57.4->FloTorch-core) (4.12.2)\n",
      "Requirement already satisfied: urllib3!=2.2.0,!=2.2.1,<3,>=1.26.19 in /home/ec2-user/anaconda3/envs/python3/lib/python3.10/site-packages (from opensearch-py==2.8.0->FloTorch-core) (2.3.0)\n",
      "Requirement already satisfied: python-dateutil in /home/ec2-user/anaconda3/envs/python3/lib/python3.10/site-packages (from opensearch-py==2.8.0->FloTorch-core) (2.9.0.post0)\n",
      "Requirement already satisfied: certifi>=2024.07.04 in /home/ec2-user/anaconda3/envs/python3/lib/python3.10/site-packages (from opensearch-py==2.8.0->FloTorch-core) (2025.1.31)\n",
      "Requirement already satisfied: Events in /home/ec2-user/anaconda3/envs/python3/lib/python3.10/site-packages (from opensearch-py==2.8.0->FloTorch-core) (0.5)\n",
      "Requirement already satisfied: attrs<24,>=23.1.0 in /home/ec2-user/anaconda3/envs/python3/lib/python3.10/site-packages (from sagemaker==2.235.2->FloTorch-core) (23.2.0)\n",
      "Requirement already satisfied: cloudpickle==2.2.1 in /home/ec2-user/anaconda3/envs/python3/lib/python3.10/site-packages (from sagemaker==2.235.2->FloTorch-core) (2.2.1)\n",
      "Requirement already satisfied: docker in /home/ec2-user/anaconda3/envs/python3/lib/python3.10/site-packages (from sagemaker==2.235.2->FloTorch-core) (7.1.0)\n",
      "Requirement already satisfied: google-pasta in /home/ec2-user/anaconda3/envs/python3/lib/python3.10/site-packages (from sagemaker==2.235.2->FloTorch-core) (0.2.0)\n",
      "Requirement already satisfied: importlib-metadata<7.0,>=1.4.0 in /home/ec2-user/anaconda3/envs/python3/lib/python3.10/site-packages (from sagemaker==2.235.2->FloTorch-core) (6.11.0)\n",
      "Requirement already satisfied: jsonschema in /home/ec2-user/anaconda3/envs/python3/lib/python3.10/site-packages (from sagemaker==2.235.2->FloTorch-core) (4.23.0)\n",
      "Requirement already satisfied: packaging>=20.0 in /home/ec2-user/anaconda3/envs/python3/lib/python3.10/site-packages (from sagemaker==2.235.2->FloTorch-core) (23.2)\n",
      "Requirement already satisfied: pandas in /home/ec2-user/anaconda3/envs/python3/lib/python3.10/site-packages (from sagemaker==2.235.2->FloTorch-core) (1.5.3)\n",
      "Requirement already satisfied: pathos in /home/ec2-user/anaconda3/envs/python3/lib/python3.10/site-packages (from sagemaker==2.235.2->FloTorch-core) (0.3.3)\n",
      "Requirement already satisfied: platformdirs in /home/ec2-user/anaconda3/envs/python3/lib/python3.10/site-packages (from sagemaker==2.235.2->FloTorch-core) (4.3.6)\n",
      "Requirement already satisfied: protobuf<5.0,>=3.12 in /home/ec2-user/anaconda3/envs/python3/lib/python3.10/site-packages (from sagemaker==2.235.2->FloTorch-core) (4.25.6)\n",
      "Requirement already satisfied: psutil in /home/ec2-user/anaconda3/envs/python3/lib/python3.10/site-packages (from sagemaker==2.235.2->FloTorch-core) (6.1.1)\n",
      "Requirement already satisfied: sagemaker-core<2.0.0,>=1.0.15 in /home/ec2-user/anaconda3/envs/python3/lib/python3.10/site-packages (from sagemaker==2.235.2->FloTorch-core) (1.0.28)\n",
      "Requirement already satisfied: schema in /home/ec2-user/anaconda3/envs/python3/lib/python3.10/site-packages (from sagemaker==2.235.2->FloTorch-core) (0.7.7)\n",
      "Requirement already satisfied: smdebug-rulesconfig==1.0.1 in /home/ec2-user/anaconda3/envs/python3/lib/python3.10/site-packages (from sagemaker==2.235.2->FloTorch-core) (1.0.1)\n",
      "Requirement already satisfied: tblib<4,>=1.7.0 in /home/ec2-user/anaconda3/envs/python3/lib/python3.10/site-packages (from sagemaker==2.235.2->FloTorch-core) (3.0.0)\n",
      "Requirement already satisfied: aiohappyeyeballs>=2.3.0 in /home/ec2-user/anaconda3/envs/python3/lib/python3.10/site-packages (from aiohttp<4.0.0,>=3.8.3->langchain==0.3.14->FloTorch-core) (2.4.6)\n",
      "Requirement already satisfied: aiosignal>=1.1.2 in /home/ec2-user/anaconda3/envs/python3/lib/python3.10/site-packages (from aiohttp<4.0.0,>=3.8.3->langchain==0.3.14->FloTorch-core) (1.3.2)\n",
      "Requirement already satisfied: frozenlist>=1.1.1 in /home/ec2-user/anaconda3/envs/python3/lib/python3.10/site-packages (from aiohttp<4.0.0,>=3.8.3->langchain==0.3.14->FloTorch-core) (1.5.0)\n",
      "Requirement already satisfied: multidict<7.0,>=4.5 in /home/ec2-user/anaconda3/envs/python3/lib/python3.10/site-packages (from aiohttp<4.0.0,>=3.8.3->langchain==0.3.14->FloTorch-core) (6.1.0)\n",
      "Requirement already satisfied: propcache>=0.2.0 in /home/ec2-user/anaconda3/envs/python3/lib/python3.10/site-packages (from aiohttp<4.0.0,>=3.8.3->langchain==0.3.14->FloTorch-core) (0.2.1)\n",
      "Requirement already satisfied: yarl<2.0,>=1.17.0 in /home/ec2-user/anaconda3/envs/python3/lib/python3.10/site-packages (from aiohttp<4.0.0,>=3.8.3->langchain==0.3.14->FloTorch-core) (1.18.3)\n",
      "Requirement already satisfied: exceptiongroup>=1.0.2 in /home/ec2-user/anaconda3/envs/python3/lib/python3.10/site-packages (from anyio<5,>=3.5.0->openai==1.57.4->FloTorch-core) (1.2.2)\n",
      "Requirement already satisfied: idna>=2.8 in /home/ec2-user/anaconda3/envs/python3/lib/python3.10/site-packages (from anyio<5,>=3.5.0->openai==1.57.4->FloTorch-core) (3.10)\n",
      "Requirement already satisfied: httpcore==1.* in /home/ec2-user/anaconda3/envs/python3/lib/python3.10/site-packages (from httpx<0.28.0,>=0.27.0->ollama==0.4.6->FloTorch-core) (1.0.7)\n",
      "Requirement already satisfied: h11<0.15,>=0.13 in /home/ec2-user/anaconda3/envs/python3/lib/python3.10/site-packages (from httpcore==1.*->httpx<0.28.0,>=0.27.0->ollama==0.4.6->FloTorch-core) (0.14.0)\n",
      "Requirement already satisfied: zipp>=0.5 in /home/ec2-user/anaconda3/envs/python3/lib/python3.10/site-packages (from importlib-metadata<7.0,>=1.4.0->sagemaker==2.235.2->FloTorch-core) (3.21.0)\n",
      "Requirement already satisfied: jsonpatch<2.0,>=1.33 in /home/ec2-user/anaconda3/envs/python3/lib/python3.10/site-packages (from langchain-core<0.4.0,>=0.3.29->langchain==0.3.14->FloTorch-core) (1.33)\n",
      "Requirement already satisfied: orjson<4.0.0,>=3.9.14 in /home/ec2-user/anaconda3/envs/python3/lib/python3.10/site-packages (from langsmith<0.3,>=0.1.17->langchain==0.3.14->FloTorch-core) (3.10.16)\n",
      "Requirement already satisfied: requests-toolbelt<2.0.0,>=1.0.0 in /home/ec2-user/anaconda3/envs/python3/lib/python3.10/site-packages (from langsmith<0.3,>=0.1.17->langchain==0.3.14->FloTorch-core) (1.0.0)\n",
      "Requirement already satisfied: annotated-types>=0.6.0 in /home/ec2-user/anaconda3/envs/python3/lib/python3.10/site-packages (from pydantic<3.0.0,>=2.7.4->langchain==0.3.14->FloTorch-core) (0.7.0)\n",
      "Requirement already satisfied: pydantic-core==2.33.1 in /home/ec2-user/anaconda3/envs/python3/lib/python3.10/site-packages (from pydantic<3.0.0,>=2.7.4->langchain==0.3.14->FloTorch-core) (2.33.1)\n",
      "Requirement already satisfied: typing-inspection>=0.4.0 in /home/ec2-user/anaconda3/envs/python3/lib/python3.10/site-packages (from pydantic<3.0.0,>=2.7.4->langchain==0.3.14->FloTorch-core) (0.4.0)\n",
      "Requirement already satisfied: six>=1.5 in /home/ec2-user/anaconda3/envs/python3/lib/python3.10/site-packages (from python-dateutil->opensearch-py==2.8.0->FloTorch-core) (1.17.0)\n",
      "Requirement already satisfied: charset_normalizer<4,>=2 in /home/ec2-user/anaconda3/envs/python3/lib/python3.10/site-packages (from requests<3,>=2->langchain==0.3.14->FloTorch-core) (3.4.1)\n",
      "Requirement already satisfied: rich<14.0.0,>=13.0.0 in /home/ec2-user/anaconda3/envs/python3/lib/python3.10/site-packages (from sagemaker-core<2.0.0,>=1.0.15->sagemaker==2.235.2->FloTorch-core) (13.9.4)\n",
      "Requirement already satisfied: mock<5.0,>4.0 in /home/ec2-user/anaconda3/envs/python3/lib/python3.10/site-packages (from sagemaker-core<2.0.0,>=1.0.15->sagemaker==2.235.2->FloTorch-core) (4.0.3)\n",
      "Requirement already satisfied: jsonschema-specifications>=2023.03.6 in /home/ec2-user/anaconda3/envs/python3/lib/python3.10/site-packages (from jsonschema->sagemaker==2.235.2->FloTorch-core) (2024.10.1)\n",
      "Requirement already satisfied: referencing>=0.28.4 in /home/ec2-user/anaconda3/envs/python3/lib/python3.10/site-packages (from jsonschema->sagemaker==2.235.2->FloTorch-core) (0.36.2)\n",
      "Requirement already satisfied: rpds-py>=0.7.1 in /home/ec2-user/anaconda3/envs/python3/lib/python3.10/site-packages (from jsonschema->sagemaker==2.235.2->FloTorch-core) (0.22.3)\n",
      "Requirement already satisfied: greenlet!=0.4.17 in /home/ec2-user/anaconda3/envs/python3/lib/python3.10/site-packages (from SQLAlchemy<3,>=1.4->langchain==0.3.14->FloTorch-core) (3.1.1)\n",
      "Requirement already satisfied: pytz>=2020.1 in /home/ec2-user/anaconda3/envs/python3/lib/python3.10/site-packages (from pandas->sagemaker==2.235.2->FloTorch-core) (2025.1)\n",
      "Requirement already satisfied: ppft>=1.7.6.9 in /home/ec2-user/anaconda3/envs/python3/lib/python3.10/site-packages (from pathos->sagemaker==2.235.2->FloTorch-core) (1.7.6.9)\n",
      "Requirement already satisfied: dill>=0.3.9 in /home/ec2-user/anaconda3/envs/python3/lib/python3.10/site-packages (from pathos->sagemaker==2.235.2->FloTorch-core) (0.3.9)\n",
      "Requirement already satisfied: pox>=0.3.5 in /home/ec2-user/anaconda3/envs/python3/lib/python3.10/site-packages (from pathos->sagemaker==2.235.2->FloTorch-core) (0.3.5)\n",
      "Requirement already satisfied: multiprocess>=0.70.17 in /home/ec2-user/anaconda3/envs/python3/lib/python3.10/site-packages (from pathos->sagemaker==2.235.2->FloTorch-core) (0.70.17)\n",
      "Requirement already satisfied: jsonpointer>=1.9 in /home/ec2-user/anaconda3/envs/python3/lib/python3.10/site-packages (from jsonpatch<2.0,>=1.33->langchain-core<0.4.0,>=0.3.29->langchain==0.3.14->FloTorch-core) (3.0.0)\n",
      "Requirement already satisfied: markdown-it-py>=2.2.0 in /home/ec2-user/anaconda3/envs/python3/lib/python3.10/site-packages (from rich<14.0.0,>=13.0.0->sagemaker-core<2.0.0,>=1.0.15->sagemaker==2.235.2->FloTorch-core) (3.0.0)\n",
      "Requirement already satisfied: pygments<3.0.0,>=2.13.0 in /home/ec2-user/anaconda3/envs/python3/lib/python3.10/site-packages (from rich<14.0.0,>=13.0.0->sagemaker-core<2.0.0,>=1.0.15->sagemaker==2.235.2->FloTorch-core) (2.19.1)\n",
      "Requirement already satisfied: mdurl~=0.1 in /home/ec2-user/anaconda3/envs/python3/lib/python3.10/site-packages (from markdown-it-py>=2.2.0->rich<14.0.0,>=13.0.0->sagemaker-core<2.0.0,>=1.0.15->sagemaker==2.235.2->FloTorch-core) (0.1.2)\n"
     ]
    }
   ],
   "source": [
    "# Install flotorch-core package from https://pypi.org/project/FloTorch-core/\n",
    "!pip install FloTorch-core"
   ]
  },
  {
   "cell_type": "code",
   "execution_count": 11,
   "id": "74286f9e-eee6-45c5-941c-ac4271ada540",
   "metadata": {},
   "outputs": [],
   "source": [
    "# Define a function to upload all files from a local directory to an S3 bucket\n",
    "import boto3\n",
    "import os\n",
    "region_name = 'us-west-2'\n",
    "s3_bucket_name = variables['s3Bucket']\n",
    "s3 = boto3.client(\"s3\", region_name=region_name)\n",
    "\n",
    "def upload_directory(path, bucket_name, data_s3_prefix):\n",
    "    for root, dirs, files in os.walk(path):\n",
    "        for file in files:\n",
    "            key = f\"{data_s3_prefix}/{file}\"  # Construct the S3 object key\n",
    "            s3.upload_file(os.path.join(root, file), bucket_name, key)  # Upload the file"
   ]
  },
  {
   "cell_type": "code",
   "execution_count": 13,
   "id": "70d3725d-bd23-4f0f-85fa-c42cdeb1b953",
   "metadata": {},
   "outputs": [],
   "source": [
    "# Upload the ground truth data to Amazon S3 under the 'ground_truth_data' prefix\n",
    "ground_truth_data_path = \"./ground_truth_data\"\n",
    "s3_key_prefix = \"ground_truth_data_files\"\n",
    "upload_directory(ground_truth_data_path, s3_bucket_name, s3_key_prefix)\n",
    "ground_truth_path = f\"s3://{s3_bucket_name}/{s3_key_prefix}/kbqa_questions_answers.json\""
   ]
  },
  {
   "cell_type": "code",
   "execution_count": null,
   "id": "49cecfe8-654c-492e-acd4-4ff60485ad86",
   "metadata": {},
   "outputs": [],
   "source": []
  }
 ],
 "metadata": {
  "kernelspec": {
   "display_name": "conda_python3",
   "language": "python",
   "name": "conda_python3"
  },
  "language_info": {
   "codemirror_mode": {
    "name": "ipython",
    "version": 3
   },
   "file_extension": ".py",
   "mimetype": "text/x-python",
   "name": "python",
   "nbconvert_exporter": "python",
   "pygments_lexer": "ipython3",
   "version": "3.10.16"
  }
 },
 "nbformat": 4,
 "nbformat_minor": 5
}
