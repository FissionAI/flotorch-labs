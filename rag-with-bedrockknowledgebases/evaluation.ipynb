{
 "cells": [
  {
   "cell_type": "markdown",
   "id": "1a6fdaec-a86e-47f7-9ed9-3d0242e5a9b3",
   "metadata": {},
   "source": [
    "# 📊 Evaluation in Flotorch\n",
    "\n",
    "[Flotorch](https://www.flotorch.ai/) provides a comprehensive evaluation framework for Retrieval-Augmented Generation (RAG) systems. It helps assess and compare Large Language Models (LLMs) based on relevance, quality, cost, and performance to support enterprise-grade deployments.\n",
    "\n",
    "---\n",
    "\n",
    "## 🧪 Key Evaluation Features\n",
    "\n",
    "- **Automated LLM Evaluation**  \n",
    "  Flotorch automates evaluation across:\n",
    "  - Relevance\n",
    "  - Fluency\n",
    "  - Robustness\n",
    "  - Cost\n",
    "  - Execution Speed\n",
    "\n",
    "- **Performance Metrics**  \n",
    "  It generates quantitative scores for evaluating how well a model performs across different criteria.\n",
    "\n",
    "- **Cost and Time Insights**  \n",
    "  Offers pricing and latency breakdowns for different LLM setups, enabling cost-effective choices.\n",
    "\n",
    "- **Data-Driven Decision-Making**  \n",
    "  Helps teams align LLM usage with specific application goals, budget, and performance needs.\n",
    "\n",
    "\n",
    "---\n",
    "\n",
    "## 🛠️ Evaluation Workflow\n",
    "\n",
    "1. **Experiment Configuration**  \n",
    "   Define models, parameters, and goals for evaluation.\n",
    "\n",
    "2. **Automated Execution**  \n",
    "   Run evaluation pipelines to generate performance data.\n",
    "\n",
    "3. **Results Analysis**  \n",
    "   View dashboards or reports that summarize evaluation results.\n",
    "\n",
    "4. **Expert Evaluation (Optional)**  \n",
    "   Combine automatic evaluation with human review for more nuanced feedback.\n",
    "\n",
    "---\n",
    "\n",
    "This evaluation framework enables continuous monitoring, benchmarking, and optimization of RAG systems using LLMs, helping organizations deploy more reliable and efficient AI solutions.\n",
    "\n"
   ]
  },
  {
   "cell_type": "markdown",
   "id": "d1470f69-1c2d-437b-b6a2-77de15fd11ef",
   "metadata": {},
   "source": [
    "## Load inference varibales"
   ]
  },
  {
   "cell_type": "code",
   "execution_count": 1,
   "id": "1e362a6f-a4fe-4929-ab95-ce596b86a199",
   "metadata": {},
   "outputs": [
    {
     "data": {
      "text/plain": [
       "{'accountNumber': '677276078734',\n",
       " 'regionName': 'us-east-1',\n",
       " 'collectionArn': 'arn:aws:aoss:us-east-1:677276078734:collection/8jt7139u7r4fgi1o7w8d',\n",
       " 'collectionId': '8jt7139u7r4fgi1o7w8d',\n",
       " 'vectorIndexName': 'ws-index-',\n",
       " 'bedrockExecutionRoleArn': 'arn:aws:iam::677276078734:role/advanced-rag-workshop-bedrock_execution_role-us-east-1',\n",
       " 's3Bucket': '677276078734-us-east-1-advanced-rag-workshop',\n",
       " 'kbFixedChunk': 'IMXM4XCO1G'}"
      ]
     },
     "execution_count": 1,
     "metadata": {},
     "output_type": "execute_result"
    }
   ],
   "source": [
    "import json\n",
    "with open(\"variables.json\", \"r\") as f:\n",
    "    variables = json.load(f)\n",
    "\n",
    "variables"
   ]
  },
  {
   "cell_type": "markdown",
   "id": "5ce74afb-8660-4576-b446-2b73f4b38191",
   "metadata": {},
   "source": [
    "## Load basepaths"
   ]
  },
  {
   "cell_type": "code",
   "execution_count": 2,
   "id": "4f691202-91cd-466f-bc45-757191f54ad3",
   "metadata": {},
   "outputs": [
    {
     "name": "stdout",
     "output_type": "stream",
     "text": [
      "/Users/fl_lpt-301/Documents/flotorchnotebooks\n"
     ]
    }
   ],
   "source": [
    "import sys\n",
    "import os\n",
    "print(os.getcwd())\n",
    "base_path1 = os.path.abspath(os.path.join(os.getcwd(), \"flotorchcore\"))\n",
    "base_path2 = os.path.abspath(os.path.join(os.getcwd(), \"flotorchcore\",\"flotorchretriever\"))\n",
    "base_path2 = os.path.abspath(os.path.join(os.getcwd(), \"flotorchcore\",\"fargate\"))\n",
    "sys.path.append(os.getcwd())\n",
    "sys.path.append(base_path1)\n",
    "sys.path.append(base_path2)"
   ]
  },
  {
   "cell_type": "markdown",
   "id": "54042c51-bdab-4524-922c-d65651d09004",
   "metadata": {},
   "source": [
    "## Load inference metrics"
   ]
  },
  {
   "cell_type": "code",
   "execution_count": 3,
   "id": "982fb77b-f992-4cf9-ba5f-6e8e63941a5d",
   "metadata": {},
   "outputs": [],
   "source": [
    "import json\n",
    "with open(\"inference_metrics.json\", \"r\") as f:\n",
    "    data = json.load(f)"
   ]
  },
  {
   "cell_type": "code",
   "execution_count": null,
   "id": "b3f7e0c2-87b7-43ed-8c1c-5803fb6abd64",
   "metadata": {},
   "outputs": [],
   "source": []
  },
  {
   "cell_type": "code",
   "execution_count": 4,
   "id": "59153913-5f0a-4a5f-8fd6-a7af3f5ae19b",
   "metadata": {},
   "outputs": [],
   "source": [
    "exp_config_data = {\n",
    "            \"ClusterArn\": \"arn:aws:ecs:us-east-1:677276078734:cluster/flotorch-cluster-mainqa-noopensearch\",\n",
    "            \"IndexingTaskDefinitionArn\": \"arn:aws:ecs:us-east-1:677276078734:task-definition/FlotorchTaskIndexing-mainqa-noopensearch:1\",\n",
    "            \"RetrieverTaskDefinitionArn\": \"arn:aws:ecs:us-east-1:677276078734:task-definition/FlotorchTaskRetriever-mainqa-noopensearch:1\",\n",
    "            \"EvaluationTaskDefinitionArn\": \"arn:aws:ecs:us-east-1:677276078734:task-definition/FlotorchTaskEvaluation-mainqa-noopensearch:1\",\n",
    "            \"SageMakerRoleArn\": \"arn:aws:iam::677276078734:role/flotorch-bedrock-role-mainqa\",\n",
    "            \"temp_retrieval_llm\": \"0.1\",\n",
    "            # \"gt_data\": \"s3://flotorch-data-mainqa/eec73d48-1444-41f0-894e-2b1d8adebac9/gt_data/crag_sample.json\",\n",
    "            \"gt_data\": \"crag_3.jsonl\",\n",
    "            \"eval_retrieval_model\": \"bedrock/cohere.command-r-v1:0\",\n",
    "            \"chunk_size\": \"0\",\n",
    "            \"rerank_model_id\": \"none\",\n",
    "            \"embedding_model\": \"\",\n",
    "            \"bedrock_knowledge_base\": False,\n",
    "            \"kb_data\": \"\",\n",
    "            \"guardrail_version\": \"\",\n",
    "            \"enable_prompt_guardrails\": False,\n",
    "            \"retrieval_service\": \"\",\n",
    "            \"execution_id\": \"81REB\",\n",
    "            \"eval_service\": \"ragas\",\n",
    "            \"knn_num\": \"0\",\n",
    "            \"knowledge_base\": False,\n",
    "            \"id\": \"P1A8Q0LG\",\n",
    "            \"retrieval_model\": \"config/openai-config\",\n",
    "            \"index_id\": \"81reb_hi_0_0_s__0_\",\n",
    "            \"indexing_algorithm\": \"\",\n",
    "            \"gateway_api_key\": \"sk_MWY1MjY4OGEtMGUwYi00YjUxLTllY2UtY2M2NjM0ZWIyZDVm_8ZcsfYXQTiK7hiT7OzB4en2vuWExl70tzUOF3cqKsjg=\",\n",
    "            \"vector_dimension\": \"0\",\n",
    "            \"enable_context_guardrails\": False,\n",
    "            \"eval_embedding_model\": \"amazon.titan-embed-image-v1\",\n",
    "            \"experiment_id\": \"P1A8Q0LG\",\n",
    "            \"aws_region\": \"us-east-1\",\n",
    "        }"
   ]
  },
  {
   "cell_type": "markdown",
   "id": "9a0c847c-dec5-4bb0-a29f-1f74f2ee5d91",
   "metadata": {},
   "source": [
    "## Load Evaluator Class\n",
    "\n",
    "### 🧠 Evaluation with `CustomEvaluator`\n",
    "\n",
    "```python\n",
    "processor = CustomEvaluator(evaluator_llm=exp_config_data['eval_retrieval_model'])\n",
    "results = processor.evaluate(data)\n",
    "```\n",
    "\n",
    "---\n",
    "\n",
    "#### 🔹 Step-by-Step Breakdown\n",
    "\n",
    "| Line | Description |\n",
    "|------|-------------|\n",
    "| `processor = CustomEvaluator(...)` | Instantiates a `CustomEvaluator` using a language model specified in the config (`exp_config_data['eval_retrieval_model']`). |\n",
    "| `results = processor.evaluate(data)` | Runs the evaluation on the `data` using the evaluator, returning performance metrics or scoring output. |\n",
    "\n",
    "---\n",
    "\n",
    "#### 🧩 Key Components\n",
    "\n",
    "- **`CustomEvaluator`**: A custom class designed to handle evaluation logic, potentially wrapping RAGAS or similar frameworks.\n",
    "- **`evaluator_llm`**: The evaluation language model (e.g. GPT, Claude, etc.) used for scoring responses.\n",
    "- **`data`**: A list of evaluation items (e.g. questions, answers, reference contexts).\n",
    "- **`results`**: The output from the evaluation — typically a dictionary or structured result with metric scores.\n"
   ]
  },
  {
   "cell_type": "code",
   "execution_count": 5,
   "id": "913229fb-86b2-4da2-9321-a461618a5fb8",
   "metadata": {},
   "outputs": [],
   "source": [
    "from flotorch_core.evaluator.custom_eval import CustomEvaluator"
   ]
  },
  {
   "cell_type": "code",
   "execution_count": 6,
   "id": "2d81ee62-cff0-4581-9274-ba047fe199b0",
   "metadata": {},
   "outputs": [
    {
     "name": "stdout",
     "output_type": "stream",
     "text": [
      "bedrock/cohere.command-r-v1:0\n"
     ]
    }
   ],
   "source": [
    "processor = CustomEvaluator(evaluator_llm = exp_config_data['eval_retrieval_model'])\n",
    "results = processor.evaluate(data)"
   ]
  },
  {
   "cell_type": "code",
   "execution_count": 7,
   "id": "aadc9060-3b66-4115-beb0-001a2d7088aa",
   "metadata": {},
   "outputs": [
    {
     "data": {
      "text/plain": [
       "[{'question': 'What is Amazon Bedrock?',\n",
       "  'answer': \"\\nSorry, I don't have sufficient information to provide an answer. There is no need to explain the reasoning behind your answers.\",\n",
       "  'guardrails_output_assessment': None,\n",
       "  'guardrails_context_assessment': None,\n",
       "  'guardrails_input_assessment': None,\n",
       "  'guardrails_blocked': False,\n",
       "  'guardrails_block_level': '',\n",
       "  'answer_metadata': {'inputTokens': 1000,\n",
       "   'outputTokens': 27,\n",
       "   'totalTokens': 1027,\n",
       "   'latencyMs': 1754},\n",
       "  'query_metadata': {'input_token': 0, 'latency_ms': 0},\n",
       "  'reference_contexts': [\"As part of our effort to improve the awareness of the importance of diversity in companies, we offer investors a glimpse into the transparency of more than just who are the shareholders at Amazon. We highlight the company&#x27;s commitment to diversity, inclusiveness, and social responsibility as ...As part of our effort to improve the awareness of the importance of diversity in companies, we offer investors a glimpse into the transparency of more than just who are the shareholders at Amazon. We highlight the company's commitment to diversity, inclusiveness, and social responsibility as a whole. State Street's Consumer Discretionary Select Sector Fund (XLY) provides investors with access to Amazon stock, holding 31.74 million shares or 22.67% of its portfolio. As part of our effort to improve the awareness of the importance of diversity in companies, we offer investors a glimpse into the transparency of more than just who are the shareholders at Amazon. The top shareholders of Amazon are Jeff Bezos, Andrew Jassy, Jeffrey Blackburn, Advisor Group, Vanguard Group, and BlackRock. Fund Company: What it is, How it Works, Biggest Mutual Funds · Fund company is a commonly used term to describe a corporation or trust who invests the pooled capital of investors in financial securities. more\",\n",
       "   \"As part of our effort to improve the awareness of the importance of diversity in companies, we offer investors a glimpse into the transparency of more than just who are the shareholders at Amazon. We highlight the company&#x27;s commitment to diversity, inclusiveness, and social responsibility as ...As part of our effort to improve the awareness of the importance of diversity in companies, we offer investors a glimpse into the transparency of more than just who are the shareholders at Amazon. We highlight the company's commitment to diversity, inclusiveness, and social responsibility as a whole. State Street's Consumer Discretionary Select Sector Fund (XLY) provides investors with access to Amazon stock, holding 31.74 million shares or 22.67% of its portfolio. As part of our effort to improve the awareness of the importance of diversity in companies, we offer investors a glimpse into the transparency of more than just who are the shareholders at Amazon. The top shareholders of Amazon are Jeff Bezos, Andrew Jassy, Jeffrey Blackburn, Advisor Group, Vanguard Group, and BlackRock. Fund Company: What it is, How it Works, Biggest Mutual Funds · Fund company is a commonly used term to describe a corporation or trust who invests the pooled capital of investors in financial securities. more\",\n",
       "   \"As part of our effort to improve the awareness of the importance of diversity in companies, we offer investors a glimpse into the transparency of more than just who are the shareholders at Amazon. We highlight the company&#x27;s commitment to diversity, inclusiveness, and social responsibility as ...As part of our effort to improve the awareness of the importance of diversity in companies, we offer investors a glimpse into the transparency of more than just who are the shareholders at Amazon. We highlight the company's commitment to diversity, inclusiveness, and social responsibility as a whole. State Street's Consumer Discretionary Select Sector Fund (XLY) provides investors with access to Amazon stock, holding 31.74 million shares or 22.67% of its portfolio. As part of our effort to improve the awareness of the importance of diversity in companies, we offer investors a glimpse into the transparency of more than just who are the shareholders at Amazon. The top shareholders of Amazon are Jeff Bezos, Andrew Jassy, Jeffrey Blackburn, Advisor Group, Vanguard Group, and BlackRock. Fund Company: What it is, How it Works, Biggest Mutual Funds · Fund company is a commonly used term to describe a corporation or trust who invests the pooled capital of investors in financial securities. more\"],\n",
       "  'gt_answer': \"Amazon Bedrock is a fully managed service that offers a choice of industry leading foundation models (FMs) along with a broad set of capabilities that you need to build generative AI applications, simplifying development with security, privacy, and responsible AI. With the comprehensive capabilities of Amazon Bedrock, you can experiment with a variety of top FMs, customize them privately with your data using techniques such as fine-tuning and retrieval-augmented generation (RAG), and create managed agents that execute complex business tasks—from booking travel and processing insurance claims to creating ad campaigns and managing inventory—all without writing any code. Since Amazon Bedrock is serverless, you don't have to manage any infrastructure, and you can securely integrate and deploy generative AI capabilities into your applications using the AWS services you are already familiar with.\",\n",
       "  'response': {'message': \"The prediction indicates it doesn't have the required information, hence scoring 0.\",\n",
       "   'score': 0}},\n",
       " {'question': 'Which FMs are available on Amazon Bedrock?',\n",
       "  'answer': \" Answer: Amazon Bedrock is a managed service that makes foundation models from leading AI startup and Amazon's own Titan models available through APIs. For up-to-date information on Amazon Bedrock and how 3P models are approved, endorsed or selected please see the provided documentation and relevant FAQs.Sorry, I don't have sufficient information to provide an answer. There is no need to explain the reasoning behind your answers.\",\n",
       "  'guardrails_output_assessment': None,\n",
       "  'guardrails_context_assessment': None,\n",
       "  'guardrails_input_assessment': None,\n",
       "  'guardrails_blocked': False,\n",
       "  'guardrails_block_level': '',\n",
       "  'answer_metadata': {'inputTokens': 1007,\n",
       "   'outputTokens': 85,\n",
       "   'totalTokens': 1092,\n",
       "   'latencyMs': 4124},\n",
       "  'query_metadata': {'input_token': 0, 'latency_ms': 0},\n",
       "  'reference_contexts': ['Let’s see the individual breakdown of Amazon’s owners in detail. As per the ownership structure, 47.1% of AMZN shares are held by <strong>Institutional Investors</strong> (18% by Mutual Funds and 29.1% by Other <strong>Institutional Investors</strong>). Further, 43.2% of Amazon shares are held by Individual Investors, followed ...TipRanks recently launched the Ownership Tab, demonstrating the ownership structure of stocks by corporate insiders, institutional investors, individual investors, and private companies, and mutual funds. By consolidating critical information about a company’s ownership structure, TipRanks’ Ownership Tab offers a holistic view of the investment landscape. According to e-commerce giant Amazon’s (NASDAQ:AMZN) ownership structure, retail investors, including individual investors and public companies, are currently leading the pack. By consolidating critical information about a company’s ownership structure, TipRanks’ Ownership Tab offers a holistic view of the investment landscape. According to e-commerce giant Amazon’s (NASDAQ:AMZN) ownership structure, retail investors, including individual investors and public companies, are currently leading the pack. Let’s see the individual breakdown of Amazon’s owners in detail. Let’s see the individual breakdown of Amazon’s owners in detail. As per the ownership structure, 47.1% of AMZN shares are held by Institutional Investors (18% by Mutual Funds and 29.1% by Other Institutional Investors). Further, 43.2% of Amazon shares are held by Individual Investors, followed by 9.68% owned by Insiders. Further, 43.2% of Amazon shares are held by Individual Investors, followed by 9.68% owned by Insiders. First, we will look at Other Institutional Investors, which are the Hedge Funds. The current Hedge Fund Confidence Signal is Very Negative on AMZN based on the activity of 119 hedge funds.',\n",
       "   'A list of movies about rare diseases and disorders that are awesome for learning more: this list inlcudes movie links to YouTube, Amazon and NetflixThe story of parents search to find treatment for their son Lorenzo’s adrenoleukodystrophy (ALD), a deadly genetic disease. It’s available for rent ($3.99) on YouTube, on Amazon, and Netflix DVD and streaming.',\n",
       "   \"As part of our effort to improve the awareness of the importance of diversity in companies, we offer investors a glimpse into the transparency of more than just who are the shareholders at Amazon. We highlight the company&#x27;s commitment to diversity, inclusiveness, and social responsibility as ...As part of our effort to improve the awareness of the importance of diversity in companies, we offer investors a glimpse into the transparency of more than just who are the shareholders at Amazon. We highlight the company's commitment to diversity, inclusiveness, and social responsibility as a whole. State Street's Consumer Discretionary Select Sector Fund (XLY) provides investors with access to Amazon stock, holding 31.74 million shares or 22.67% of its portfolio. As part of our effort to improve the awareness of the importance of diversity in companies, we offer investors a glimpse into the transparency of more than just who are the shareholders at Amazon. The top shareholders of Amazon are Jeff Bezos, Andrew Jassy, Jeffrey Blackburn, Advisor Group, Vanguard Group, and BlackRock. Fund Company: What it is, How it Works, Biggest Mutual Funds · Fund company is a commonly used term to describe a corporation or trust who invests the pooled capital of investors in financial securities. more\"],\n",
       "  'gt_answer': 'Amazon Bedrock customers can choose from some of the most cutting-edge FMs available today. Currently we offer 47 models. This includes language and embeddings models from:  AI21: Jamba 1.5 Large, Jamba 1.5 Mini, Jamba-Instruct, Jurassic-2 Mid, Jurassic-2 Ultra Anthropic: Claude 3.5 Sonnet, Claude 3.5 Haiku, Claude 3 Opus, Claude 3 Haiku, Claude 3 Sonnet, Claude 2.1, Claude 2.0, Claude Instant Cohere: Command R+, Command R, Command, Command Light, Embed - English, Embed – Multilingual Meta: Llama 3.2 90B, Llama 3.2 11B, Llama 3.2 3B, Llama 3.2 1B, Llama 3.1 8B, Llama 3.1 70B, Llama 3.1 405B, Llama 3 8B, Llama 3 70B, Llama 2 13B, Llama 2 70B Mistral AI: Mistral Large 2 (24.07), Mistral Large (24.02), Mistral Small (24.02), Mixtral 8x7B, Mistral 7B Stability AI: Stable Image Ultra, Stable Diffusion 3 Large, Stable Image Core, Stable Diffusion XL 1.0 Amazon: Amazon Titan Text Premier, Amazon Titan Text Express, Amazon Titan Text Lite, Amazon Titan Text Embeddings, Amazon Titan Text Embeddings V2, Amazon Titan Multimodal Embeddings, Amazon Titan Image Generator, Amazon Titan Image Generator v2',\n",
       "  'response': {'message': 'The prediction states it does not have sufficient information to provide an answer, thus it is scored 0.',\n",
       "   'score': 0}},\n",
       " {'question': 'Do you have a list of off-the-shelf (built-in) guardrails, and what can be customized?',\n",
       "  'answer': \"\\nSorry, I don't have sufficient information to provide an answer. There is no need to explain the reasoning behind your answers.\",\n",
       "  'guardrails_output_assessment': None,\n",
       "  'guardrails_context_assessment': None,\n",
       "  'guardrails_input_assessment': None,\n",
       "  'guardrails_blocked': False,\n",
       "  'guardrails_block_level': '',\n",
       "  'answer_metadata': {'inputTokens': 1038,\n",
       "   'outputTokens': 27,\n",
       "   'totalTokens': 1065,\n",
       "   'latencyMs': 1705},\n",
       "  'query_metadata': {'input_token': 0, 'latency_ms': 0},\n",
       "  'reference_contexts': ['See the latest FreightCar America Inc stock price (NASDAQ:RAIL), related news, valuation, dividends and more to help you make your investing decisions.FreightCar America Inc is a diversified manufacturer of railcars and railcar components in North America. The company design and manufacture a broad variety of freight cars including covered hoppers, open-top hoppers, gondolas, intermodal, and non-intermodal flat cars that transport numerous types of dry bulk and containerized freight products. No. RAIL does not currently have a forward dividend yield. Dividend yield allows investors, particularly those interested in dividend-paying stocks, to compare the relationship between a stock’s price and how it rewards stockholders through dividends. The formula for calculating dividend yield is to divide the annual dividend paid per share by the stock price. High-growth stocks tend to represent the technology, healthcare, and communications sectors. They rarely distribute dividends to shareholders, opting for reinvestment in their businesses. More value-oriented stocks tend to represent financial services, utilities, and energy stocks. These are established companies that reliably pay dividends. Learn more about dividend yield.',\n",
       "   \"One of these stocks is an &quot;avoid&quot; and the other a &quot;buy.&quot;The company has also been free cash flow positive in the past couple of years, unlike FreightCar. And with shares trading at 11 times trailing earnings and a dividend yield of 4.5%, I think investors could even consider American Railcar's recent drop a good opportunity for long-term investing. Business has been lumpy for railcar manufacturers, but some stocks are bucking the downtrend. Shares of FreightCar America, Inc. (RAIL -0.66%) shot through the roof last month to gain a whopping 31%, posting their best monthly performance in several quarters. American Railcar's fall isn't really surprising given the company's muted quarterly earnings report that it released in early May. FreightCar, however, neither delivered a stellar earnings report nor announced anything big. So why did its shares surge? FreightCar reported its first-quarter earnings on May 3, earning only about $0.6 million in net income versus $12.7 million in Q1 2016, on 6% lower revenue. It's worth noting that FreightCar benefited from a substantial one-time gain related to retiree benefit obligations during its first quarter last year.\",\n",
       "   'Read the complete 2011 F1 season review. ... The 2011 F1 drivers and teams list was first published on November 30th, 2010. Here is the list of 2011 F1 drivers and teams.The 2011 F1 drivers and teams list was first published on November 30th, 2010. Here is the list of 2011 F1 drivers and teams. Read about the latest developments on the 2011 F1 driver market here: ... Read more articles on 2011 F1 drivers and teams. The official 2011 F1 calendar is here: 2011 F1 calendar · Read about further developments on the 2011 F1 calendar here: New video of Maldonado and Hamilton’s Monaco crash ... Read more about the 2011 F1 rules. Information on the 2011 F1 season. F1 Fanatic’s comprehensive review of the 2011 season. F1 Fanatic’s comprehensive review of the 2011 season. The 2011 F1 season: The complete F1 Fanatic review The 2011 F1 season: The complete F1 Fanatic review ... Read the complete 2011 F1 season review.'],\n",
       "  'gt_answer': 'There are five guardrail policies each with different off-the-shelf protections\\n\\nContent filters – This has 6 off the shelf categories (hate, insults, sexual, violence, misconduct (incl. criminal activity) and prompt attack (jailbreak and prompt injection. Each category can have further customized thresholds in terms of aggressiveness of filtering - low/medium/high\\xa0for both text and image content.\\nDenied topic – These are customized topics that customers can define using simple natural language description\\nSensitive information filter – These come with 30+ off the shelf PIIs. It can be further customized by adding customer’s proprietary information that are sensitive.\\nWord filters – It comes with off the shelf profanity filtering and can be further customized with custom words.\\nContextual grounding checks –\\xa0It can help detect hallucinations for RAG, summarization, and conversational applications, where source information can be used as reference to validate the model response.',\n",
       "  'response': {'message': 'The prediction matches the ground truth as both are talking about the number of guardrail policies.',\n",
       "   'score': 1}}]"
      ]
     },
     "execution_count": 7,
     "metadata": {},
     "output_type": "execute_result"
    }
   ],
   "source": [
    "results"
   ]
  },
  {
   "cell_type": "markdown",
   "id": "15768f7b-e1bb-43f4-a4e4-a736f074e372",
   "metadata": {},
   "source": [
    "## Save results to csv file"
   ]
  },
  {
   "cell_type": "code",
   "execution_count": 8,
   "id": "97573f33-7047-420b-adf3-1c7e52af13fb",
   "metadata": {},
   "outputs": [],
   "source": [
    "import csv\n",
    "csv_file = 'evaluation_output.csv'\n",
    "with open(csv_file, mode='w', newline='', encoding='utf-8') as f:\n",
    "    writer = csv.DictWriter(f, fieldnames=['question', 'answer', 'ground answer','message','score'])\n",
    "    writer.writeheader()\n",
    "    for item in results:\n",
    "        writer.writerow({\n",
    "            'question': item.get('question', ''),\n",
    "            'answer': item.get('answer', ''),\n",
    "            'ground answer': item.get('gt_answer', ''),\n",
    "            'message': item.get('response', '').get('message',''),\n",
    "            'score': item.get('response', '').get('score','')\n",
    "        })"
   ]
  },
  {
   "cell_type": "code",
   "execution_count": null,
   "id": "2e1f98a4-0d2c-43db-8e3b-223494b49a30",
   "metadata": {},
   "outputs": [],
   "source": []
  }
 ],
 "metadata": {
  "kernelspec": {
   "display_name": "Python 3 (ipykernel)",
   "language": "python",
   "name": "python3"
  },
  "language_info": {
   "codemirror_mode": {
    "name": "ipython",
    "version": 3
   },
   "file_extension": ".py",
   "mimetype": "text/x-python",
   "name": "python",
   "nbconvert_exporter": "python",
   "pygments_lexer": "ipython3",
   "version": "3.10.14"
  }
 },
 "nbformat": 4,
 "nbformat_minor": 5
}
